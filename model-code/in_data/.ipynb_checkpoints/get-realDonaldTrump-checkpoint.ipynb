{
 "cells": [
  {
   "cell_type": "code",
   "execution_count": 17,
   "metadata": {},
   "outputs": [],
   "source": [
    "import tweepy \n",
    "  \n",
    "# Fill the X's with the credentials obtained by  \n",
    "# following the above mentioned procedure. \n",
    "consumer_key = \"PV6Y58q1EBtDNbHRZWnE87E5R\" \n",
    "consumer_secret = \"zQvucogCbto0DQyJyZZjCA4PxGohp3AsHJ6eVPLOoUU3UNzR4d\"\n",
    "access_key = \"2827669717-NsgFCCpAEFvaRraBogAoJWiGZYIyXzvfrBVe00H\"\n",
    "access_secret = \"AW4MImC8b1CMwPSfYp55loFeRabLq6oQ546xW4uOhil6S\"\n",
    "  \n",
    "# Function to extract tweets \n",
    "def get_tweets(username): \n",
    "          \n",
    "        # Authorization to consumer key and consumer secret \n",
    "        auth = tweepy.OAuthHandler(consumer_key, consumer_secret) \n",
    "  \n",
    "        # Access to user's access key and access secret \n",
    "        auth.set_access_token(access_key, access_secret) \n",
    "  \n",
    "        # Calling api \n",
    "        api = tweepy.API(auth) \n",
    "  \n",
    "        # 200 tweets to be extracted \n",
    "        number_of_tweets=100\n",
    "        tweets = api.user_timeline(screen_name=username) \n",
    "  \n",
    "        # Empty Array \n",
    "        tmp=[]  \n",
    "  \n",
    "        # create array of tweet information: username,  \n",
    "        # tweet id, date/time, text \n",
    "        tweets_for_csv = [tweet.text for tweet in tweets] # CSV file created  \n",
    "        for j in tweets_for_csv: \n",
    "            # Appending tweets to the empty array tmp \n",
    "            tmp.append(j)  \n",
    "  \n",
    "        # Printing the tweets \n",
    "        print(tmp) "
   ]
  },
  {
   "cell_type": "code",
   "execution_count": 18,
   "metadata": {},
   "outputs": [
    {
     "name": "stdout",
     "output_type": "stream",
     "text": [
      "['https://t.co/zDkdRmLfvT', 'https://t.co/dJniOejwqT', 'https://t.co/n0DrfZnPaX https://t.co/aSWsjTco31', 'https://t.co/YeK883gDRr', 'The Fake News refuses to report this! https://t.co/OvsdLJQL4u', \"RT @Andrew_Havranek: The #Wisconsin Supreme Court has ordered @GovEvers to respond to President @realDonaldTrump / @TeamTrump's lawsuit fil…\", 'Pardon investigation is Fake News!', 'Rigged Election. Show signatures and envelopes. Expose the massive voter fraud in Georgia. What is Secretary of Sta… https://t.co/00yLJ6AZj2', 'Suppression Media! https://t.co/zYlVKeb7oK', 'RT @MattBraynard: As I said on @LouDobbs, if the issues we raised are not resolved, the nation cannot have confidence that @JoeBiden is the…', 'RT @LouDobbs: Illegal Votes: Former @realDonaldTrump data strategist @mattbraynard discovers thousands of illegally cast mail-in ballots an…', '.....Therefore, if the very dangerous &amp; unfair Section 230 is not completely terminated as part of the National Def… https://t.co/ZM5zkyaeAs', 'Section 230, which is a liability shielding gift from the U.S. to “Big Tech” (the only companies in America that ha… https://t.co/D5AvMSpso3', 'RT @CBS_Herridge: #Election2020results From a DOJ spokesperson: “Some media outlets have incorrectly reported that the Department has concl…', '.@RealDrGina — Good luck on your new show tonight on @RealAmVoice at 7:00 P.M. Eastern. I know it will be a big hit! https://t.co/3g5fDYX6TR', \"RT @RedState: Watch: James O'Keefe Calls Into CNN's Morning Conference Call, Tells Startled Jeff Zucker He's Going to Release Two Months of…\", \"RT @SaraCarterDC: .@JamesOKeefeIII: We're going to release 'hundreds of hours of CNN' calls 7 pm ET Tonight.\\n\\nDo any of you want to take a…\", 'RT @GreggJarrett: SURPRISE! James O’Keefe pops into CNN staff call, tells Jeff Zucker he’s been recording calls for months https://t.co/9GG…', 'RT @marklevinshow: James O’Keefe strikes again, CNN’s Zucker exposed with recorded phone calls. James will be on my radio show at 7:20 PM e…', 'https://t.co/0FXHvfJ0c1']\n"
     ]
    }
   ],
   "source": [
    "tweets = get_tweets(\"realDonaldTrump\")  \n",
    "# print(len(tweets))"
   ]
  },
  {
   "cell_type": "code",
   "execution_count": 14,
   "metadata": {},
   "outputs": [
    {
     "name": "stdout",
     "output_type": "stream",
     "text": [
      "None\n"
     ]
    }
   ],
   "source": [
    "print(tweets)"
   ]
  },
  {
   "cell_type": "code",
   "execution_count": null,
   "metadata": {},
   "outputs": [],
   "source": []
  }
 ],
 "metadata": {
  "kernelspec": {
   "display_name": "Python 3",
   "language": "python",
   "name": "python3"
  },
  "language_info": {
   "codemirror_mode": {
    "name": "ipython",
    "version": 3
   },
   "file_extension": ".py",
   "mimetype": "text/x-python",
   "name": "python",
   "nbconvert_exporter": "python",
   "pygments_lexer": "ipython3",
   "version": "3.7.6"
  }
 },
 "nbformat": 4,
 "nbformat_minor": 4
}
