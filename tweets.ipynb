{
 "cells": [
  {
   "cell_type": "markdown",
   "metadata": {},
   "source": [
    "## Import necessary libraries"
   ]
  },
  {
   "cell_type": "code",
   "execution_count": 32,
   "metadata": {},
   "outputs": [],
   "source": [
    "import json\n",
    "import os"
   ]
  },
  {
   "cell_type": "code",
   "execution_count": 40,
   "metadata": {},
   "outputs": [
    {
     "name": "stdout",
     "output_type": "stream",
     "text": [
      "2605\n",
      "4225\n",
      "7536\n",
      "3510\n"
     ]
    }
   ],
   "source": [
    "# get all files in data directory\n",
    "# data sourced from https://github.com/bpb27/trump_tweet_data_archive\n",
    "all_files = list(os.walk(\"./data/\"))\n",
    "\n",
    "# list containing extracted data\n",
    "data = []\n",
    "\n",
    "# loop through files and combine all tweets in a list of dictionaries\n",
    "for item in all_files:\n",
    "    foldername, dirs, files = item\n",
    "    for file in files:\n",
    "        with open(\"./data/\" + file) as open_file:\n",
    "            # read data from json file as str\n",
    "            lines  = open_file.read()\n",
    "            # now list of dictionaries (each tweet is a dict)\n",
    "            file_data = json.loads(lines)\n",
    "            print(len(file_data))\n",
    "            data += file_data"
   ]
  },
  {
   "cell_type": "code",
   "execution_count": 41,
   "metadata": {},
   "outputs": [
    {
     "name": "stdout",
     "output_type": "stream",
     "text": [
      "17876\n"
     ]
    }
   ],
   "source": [
    "print(len(data))\n",
    "# print(data[-1][\"text\"])"
   ]
  },
  {
   "cell_type": "code",
   "execution_count": null,
   "metadata": {},
   "outputs": [],
   "source": []
  }
 ],
 "metadata": {
  "kernelspec": {
   "display_name": "Python 3",
   "language": "python",
   "name": "python3"
  },
  "language_info": {
   "codemirror_mode": {
    "name": "ipython",
    "version": 3
   },
   "file_extension": ".py",
   "mimetype": "text/x-python",
   "name": "python",
   "nbconvert_exporter": "python",
   "pygments_lexer": "ipython3",
   "version": "3.7.6"
  }
 },
 "nbformat": 4,
 "nbformat_minor": 4
}
